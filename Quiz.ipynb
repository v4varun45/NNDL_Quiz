{
  "nbformat": 4,
  "nbformat_minor": 0,
  "metadata": {
    "colab": {
      "provenance": []
    },
    "kernelspec": {
      "name": "python3",
      "display_name": "Python 3"
    },
    "language_info": {
      "name": "python"
    }
  },
  "cells": [
    {
      "cell_type": "markdown",
      "source": [
        "Time Series Forecasting Task:"
      ],
      "metadata": {
        "id": "k1Bpj3q32VBF"
      }
    },
    {
      "cell_type": "markdown",
      "source": [
        "Q1)"
      ],
      "metadata": {
        "id": "VfkoYgE82b-2"
      }
    },
    {
      "cell_type": "code",
      "source": [
        "import yfinance as yf\n",
        "import pandas as pd\n",
        "\n",
        "# Fetch data for Apple Inc. from the past five years\n",
        "data = yf.download('AAPL', start='2018-01-01', end='2023-01-01')\n",
        "data = data['Close']  # We use only the closing prices\n",
        "data = data.values.reshape(-1, 1)  # Reshape for later use in LSTM model\n",
        "\n",
        "data = pd.DataFrame(data).fillna(method='ffill').values  # Fill missing values if any\n"
      ],
      "metadata": {
        "colab": {
          "base_uri": "https://localhost:8080/"
        },
        "id": "Q6P1VTM7yiBf",
        "outputId": "81f113ac-9c02-4961-a277-ea74c9ebe4c1"
      },
      "execution_count": 17,
      "outputs": [
        {
          "output_type": "stream",
          "name": "stderr",
          "text": [
            "\r[*********************100%%**********************]  1 of 1 completed\n"
          ]
        }
      ]
    },
    {
      "cell_type": "markdown",
      "source": [
        "Q2)"
      ],
      "metadata": {
        "id": "alKHKRMA2lc-"
      }
    },
    {
      "cell_type": "code",
      "source": [
        "from tensorflow.keras.models import Sequential\n",
        "from tensorflow.keras.layers import LSTM, Dense\n",
        "from sklearn.preprocessing import MinMaxScaler\n",
        "\n",
        "# Normalize the dataset\n",
        "scaler = MinMaxScaler(feature_range=(0, 1))\n",
        "data = scaler.fit_transform(data)\n",
        "\n",
        "# Split into train and test sets\n",
        "train_size = int(len(data) * 0.67)\n",
        "test_size = len(data) - train_size\n",
        "train, test = data[0:train_size,:], data[train_size:len(data),:]\n",
        "\n",
        "# Convert an array of values into a dataset matrix\n",
        "def create_dataset(dataset, look_back=1):\n",
        "    X, Y = [], []\n",
        "    for i in range(len(dataset)-look_back-1):\n",
        "        a = dataset[i:(i+look_back), 0]\n",
        "        X.append(a)\n",
        "        Y.append(dataset[i + look_back, 0])\n",
        "    return np.array(X), np.array(Y)\n",
        "\n",
        "look_back = 1\n",
        "X_train, Y_train = create_dataset(train, look_back)\n",
        "X_test, Y_test = create_dataset(test, look_back)\n",
        "\n",
        "X_train = X_train.reshape((X_train.shape[0], 1, X_train.shape[1]))\n",
        "X_test = X_test.reshape((X_test.shape[0], 1, X_test.shape[1]))\n",
        "\n",
        "# Build the LSTM model\n",
        "model = Sequential()\n",
        "model.add(LSTM(50, input_shape=(1, look_back)))\n",
        "model.add(Dense(1))\n"
      ],
      "metadata": {
        "colab": {
          "base_uri": "https://localhost:8080/"
        },
        "id": "W7K2mt8YyoQl",
        "outputId": "d6baf69b-a94c-47fe-9fab-802060dcad77"
      },
      "execution_count": 18,
      "outputs": [
        {
          "output_type": "stream",
          "name": "stderr",
          "text": [
            "/usr/local/lib/python3.10/dist-packages/keras/src/layers/rnn/rnn.py:204: UserWarning: Do not pass an `input_shape`/`input_dim` argument to a layer. When using Sequential models, prefer using an `Input(shape)` object as the first layer in the model instead.\n",
            "  super().__init__(**kwargs)\n"
          ]
        }
      ]
    },
    {
      "cell_type": "code",
      "source": [],
      "metadata": {
        "id": "cVcBtJC0zPvY"
      },
      "execution_count": null,
      "outputs": []
    },
    {
      "cell_type": "markdown",
      "source": [
        "Q3)"
      ],
      "metadata": {
        "id": "eOjQBp832sZs"
      }
    },
    {
      "cell_type": "code",
      "source": [
        "model.compile(optimizer='adam', loss='mean_squared_error')\n",
        "model.fit(X_train, Y_train, epochs=100, batch_size=1, verbose=2)\n"
      ],
      "metadata": {
        "colab": {
          "base_uri": "https://localhost:8080/"
        },
        "id": "zy27CcUjzP0T",
        "outputId": "8cc3da64-a35c-437d-a6eb-b05b86ac3bad"
      },
      "execution_count": 25,
      "outputs": [
        {
          "output_type": "stream",
          "name": "stdout",
          "text": [
            "Epoch 1/100\n",
            "841/841 - 6s - 7ms/step - loss: 1.7847e-04\n",
            "Epoch 2/100\n",
            "841/841 - 4s - 5ms/step - loss: 1.7493e-04\n",
            "Epoch 3/100\n",
            "841/841 - 3s - 3ms/step - loss: 1.7801e-04\n",
            "Epoch 4/100\n",
            "841/841 - 3s - 3ms/step - loss: 1.7110e-04\n",
            "Epoch 5/100\n",
            "841/841 - 2s - 2ms/step - loss: 1.7066e-04\n",
            "Epoch 6/100\n",
            "841/841 - 3s - 3ms/step - loss: 1.7249e-04\n",
            "Epoch 7/100\n",
            "841/841 - 4s - 4ms/step - loss: 1.6329e-04\n",
            "Epoch 8/100\n",
            "841/841 - 3s - 3ms/step - loss: 1.8578e-04\n",
            "Epoch 9/100\n",
            "841/841 - 3s - 3ms/step - loss: 1.7104e-04\n",
            "Epoch 10/100\n",
            "841/841 - 2s - 2ms/step - loss: 1.7730e-04\n",
            "Epoch 11/100\n",
            "841/841 - 3s - 3ms/step - loss: 1.7429e-04\n",
            "Epoch 12/100\n",
            "841/841 - 2s - 2ms/step - loss: 1.7164e-04\n",
            "Epoch 13/100\n",
            "841/841 - 2s - 2ms/step - loss: 1.8041e-04\n",
            "Epoch 14/100\n",
            "841/841 - 3s - 3ms/step - loss: 1.7840e-04\n",
            "Epoch 15/100\n",
            "841/841 - 2s - 2ms/step - loss: 1.6862e-04\n",
            "Epoch 16/100\n",
            "841/841 - 4s - 4ms/step - loss: 1.6912e-04\n",
            "Epoch 17/100\n",
            "841/841 - 2s - 2ms/step - loss: 1.7182e-04\n",
            "Epoch 18/100\n",
            "841/841 - 2s - 2ms/step - loss: 1.6805e-04\n",
            "Epoch 19/100\n",
            "841/841 - 2s - 3ms/step - loss: 1.8491e-04\n",
            "Epoch 20/100\n",
            "841/841 - 2s - 3ms/step - loss: 1.7394e-04\n",
            "Epoch 21/100\n",
            "841/841 - 3s - 3ms/step - loss: 1.6279e-04\n",
            "Epoch 22/100\n",
            "841/841 - 3s - 3ms/step - loss: 1.6509e-04\n",
            "Epoch 23/100\n",
            "841/841 - 2s - 2ms/step - loss: 1.7682e-04\n",
            "Epoch 24/100\n",
            "841/841 - 3s - 3ms/step - loss: 1.7784e-04\n",
            "Epoch 25/100\n",
            "841/841 - 2s - 3ms/step - loss: 1.8060e-04\n",
            "Epoch 26/100\n",
            "841/841 - 1s - 2ms/step - loss: 1.6437e-04\n",
            "Epoch 27/100\n",
            "841/841 - 3s - 4ms/step - loss: 1.7914e-04\n",
            "Epoch 28/100\n",
            "841/841 - 2s - 3ms/step - loss: 1.8386e-04\n",
            "Epoch 29/100\n",
            "841/841 - 3s - 4ms/step - loss: 1.7406e-04\n",
            "Epoch 30/100\n",
            "841/841 - 2s - 2ms/step - loss: 1.7863e-04\n",
            "Epoch 31/100\n",
            "841/841 - 5s - 5ms/step - loss: 1.8540e-04\n",
            "Epoch 32/100\n",
            "841/841 - 2s - 2ms/step - loss: 1.6456e-04\n",
            "Epoch 33/100\n",
            "841/841 - 2s - 3ms/step - loss: 1.6921e-04\n",
            "Epoch 34/100\n",
            "841/841 - 2s - 3ms/step - loss: 1.7829e-04\n",
            "Epoch 35/100\n",
            "841/841 - 3s - 3ms/step - loss: 1.7472e-04\n",
            "Epoch 36/100\n",
            "841/841 - 3s - 4ms/step - loss: 1.6803e-04\n",
            "Epoch 37/100\n",
            "841/841 - 3s - 4ms/step - loss: 1.7613e-04\n",
            "Epoch 38/100\n",
            "841/841 - 3s - 3ms/step - loss: 1.7147e-04\n",
            "Epoch 39/100\n",
            "841/841 - 2s - 2ms/step - loss: 1.6976e-04\n",
            "Epoch 40/100\n",
            "841/841 - 2s - 3ms/step - loss: 1.7045e-04\n",
            "Epoch 41/100\n",
            "841/841 - 3s - 4ms/step - loss: 1.7489e-04\n",
            "Epoch 42/100\n",
            "841/841 - 2s - 2ms/step - loss: 1.6477e-04\n",
            "Epoch 43/100\n",
            "841/841 - 1s - 2ms/step - loss: 1.7196e-04\n",
            "Epoch 44/100\n",
            "841/841 - 2s - 2ms/step - loss: 1.8158e-04\n",
            "Epoch 45/100\n",
            "841/841 - 3s - 3ms/step - loss: 1.6989e-04\n",
            "Epoch 46/100\n",
            "841/841 - 2s - 2ms/step - loss: 1.8044e-04\n",
            "Epoch 47/100\n",
            "841/841 - 4s - 5ms/step - loss: 1.7322e-04\n",
            "Epoch 48/100\n",
            "841/841 - 4s - 4ms/step - loss: 1.7334e-04\n",
            "Epoch 49/100\n",
            "841/841 - 3s - 3ms/step - loss: 1.7447e-04\n",
            "Epoch 50/100\n",
            "841/841 - 3s - 3ms/step - loss: 1.7500e-04\n",
            "Epoch 51/100\n",
            "841/841 - 4s - 4ms/step - loss: 1.7223e-04\n",
            "Epoch 52/100\n",
            "841/841 - 4s - 5ms/step - loss: 1.7349e-04\n",
            "Epoch 53/100\n",
            "841/841 - 3s - 3ms/step - loss: 1.7147e-04\n",
            "Epoch 54/100\n",
            "841/841 - 3s - 3ms/step - loss: 1.7485e-04\n",
            "Epoch 55/100\n",
            "841/841 - 2s - 2ms/step - loss: 1.6678e-04\n",
            "Epoch 56/100\n",
            "841/841 - 2s - 3ms/step - loss: 1.6796e-04\n",
            "Epoch 57/100\n",
            "841/841 - 2s - 2ms/step - loss: 1.6559e-04\n",
            "Epoch 58/100\n",
            "841/841 - 2s - 3ms/step - loss: 1.6859e-04\n",
            "Epoch 59/100\n",
            "841/841 - 3s - 3ms/step - loss: 1.7211e-04\n",
            "Epoch 60/100\n",
            "841/841 - 2s - 2ms/step - loss: 1.7497e-04\n",
            "Epoch 61/100\n",
            "841/841 - 2s - 2ms/step - loss: 1.7116e-04\n",
            "Epoch 62/100\n",
            "841/841 - 2s - 3ms/step - loss: 1.6077e-04\n",
            "Epoch 63/100\n",
            "841/841 - 2s - 3ms/step - loss: 1.7101e-04\n",
            "Epoch 64/100\n",
            "841/841 - 3s - 3ms/step - loss: 1.6533e-04\n",
            "Epoch 65/100\n",
            "841/841 - 3s - 3ms/step - loss: 1.8031e-04\n",
            "Epoch 66/100\n",
            "841/841 - 1s - 2ms/step - loss: 1.6732e-04\n",
            "Epoch 67/100\n",
            "841/841 - 3s - 3ms/step - loss: 1.7227e-04\n",
            "Epoch 68/100\n",
            "841/841 - 4s - 4ms/step - loss: 1.7039e-04\n",
            "Epoch 69/100\n",
            "841/841 - 3s - 3ms/step - loss: 1.6399e-04\n",
            "Epoch 70/100\n",
            "841/841 - 2s - 2ms/step - loss: 1.6642e-04\n",
            "Epoch 71/100\n",
            "841/841 - 3s - 3ms/step - loss: 1.6693e-04\n",
            "Epoch 72/100\n",
            "841/841 - 3s - 3ms/step - loss: 1.7145e-04\n",
            "Epoch 73/100\n",
            "841/841 - 4s - 5ms/step - loss: 1.7199e-04\n",
            "Epoch 74/100\n",
            "841/841 - 2s - 3ms/step - loss: 1.7577e-04\n",
            "Epoch 75/100\n",
            "841/841 - 2s - 2ms/step - loss: 1.7356e-04\n",
            "Epoch 76/100\n",
            "841/841 - 1s - 2ms/step - loss: 1.7530e-04\n",
            "Epoch 77/100\n",
            "841/841 - 4s - 5ms/step - loss: 1.6772e-04\n",
            "Epoch 78/100\n",
            "841/841 - 4s - 5ms/step - loss: 1.7436e-04\n",
            "Epoch 79/100\n",
            "841/841 - 2s - 2ms/step - loss: 1.7172e-04\n",
            "Epoch 80/100\n",
            "841/841 - 2s - 3ms/step - loss: 1.6289e-04\n",
            "Epoch 81/100\n",
            "841/841 - 1s - 2ms/step - loss: 1.7576e-04\n",
            "Epoch 82/100\n",
            "841/841 - 5s - 6ms/step - loss: 1.7258e-04\n",
            "Epoch 83/100\n",
            "841/841 - 3s - 4ms/step - loss: 1.7403e-04\n",
            "Epoch 84/100\n",
            "841/841 - 2s - 3ms/step - loss: 1.6975e-04\n",
            "Epoch 85/100\n",
            "841/841 - 2s - 3ms/step - loss: 1.6674e-04\n",
            "Epoch 86/100\n",
            "841/841 - 3s - 3ms/step - loss: 1.7236e-04\n",
            "Epoch 87/100\n",
            "841/841 - 4s - 5ms/step - loss: 1.6723e-04\n",
            "Epoch 88/100\n",
            "841/841 - 3s - 3ms/step - loss: 1.6596e-04\n",
            "Epoch 89/100\n",
            "841/841 - 2s - 2ms/step - loss: 1.6715e-04\n",
            "Epoch 90/100\n",
            "841/841 - 3s - 3ms/step - loss: 1.6488e-04\n",
            "Epoch 91/100\n",
            "841/841 - 3s - 3ms/step - loss: 1.6255e-04\n",
            "Epoch 92/100\n",
            "841/841 - 2s - 3ms/step - loss: 1.7747e-04\n",
            "Epoch 93/100\n",
            "841/841 - 2s - 2ms/step - loss: 1.7380e-04\n",
            "Epoch 94/100\n",
            "841/841 - 1s - 2ms/step - loss: 1.6794e-04\n",
            "Epoch 95/100\n",
            "841/841 - 1s - 2ms/step - loss: 1.6922e-04\n",
            "Epoch 96/100\n",
            "841/841 - 3s - 4ms/step - loss: 1.6601e-04\n",
            "Epoch 97/100\n",
            "841/841 - 3s - 3ms/step - loss: 1.7070e-04\n",
            "Epoch 98/100\n",
            "841/841 - 2s - 3ms/step - loss: 1.6060e-04\n",
            "Epoch 99/100\n",
            "841/841 - 2s - 3ms/step - loss: 1.7477e-04\n",
            "Epoch 100/100\n",
            "841/841 - 3s - 3ms/step - loss: 1.6721e-04\n"
          ]
        },
        {
          "output_type": "execute_result",
          "data": {
            "text/plain": [
              "<keras.src.callbacks.history.History at 0x7e07a28b65f0>"
            ]
          },
          "metadata": {},
          "execution_count": 25
        }
      ]
    },
    {
      "cell_type": "code",
      "source": [],
      "metadata": {
        "id": "_z6-S26kzP2G"
      },
      "execution_count": null,
      "outputs": []
    },
    {
      "cell_type": "markdown",
      "source": [
        "Q4)"
      ],
      "metadata": {
        "id": "vGk9P9qM2vzE"
      }
    },
    {
      "cell_type": "code",
      "source": [
        "import numpy as np\n",
        "from sklearn.metrics import mean_squared_error, mean_absolute_error\n",
        "\n",
        "# Make predictions\n",
        "train_predict = model.predict(X_train)\n",
        "test_predict = model.predict(X_test)\n",
        "\n",
        "# Invert predictions\n",
        "train_predict = scaler.inverse_transform(train_predict)\n",
        "Y_train_inv = scaler.inverse_transform([Y_train])\n",
        "test_predict = scaler.inverse_transform(test_predict)\n",
        "Y_test_inv = scaler.inverse_transform([Y_test])\n",
        "\n",
        "# Calculate root mean squared error and mean absolute error\n",
        "train_score_rmse = np.sqrt(mean_squared_error(Y_train_inv[0], train_predict[:,0]))\n",
        "test_score_rmse = np.sqrt(mean_squared_error(Y_test_inv[0], test_predict[:,0]))\n",
        "train_score_mae = mean_absolute_error(Y_train_inv[0], train_predict[:,0])\n",
        "test_score_mae = mean_absolute_error(Y_test_inv[0], test_predict[:,0])\n",
        "\n",
        "print(f'Train RMSE: {train_score_rmse:.2f}, Test RMSE: {test_score_rmse:.2f}')\n",
        "print(f'Train MAE: {train_score_mae:.2f}, Test MAE: {test_score_mae:.2f}')\n"
      ],
      "metadata": {
        "colab": {
          "base_uri": "https://localhost:8080/"
        },
        "id": "Mx_heFm60RHx",
        "outputId": "4b78aae7-9c9b-4cd3-91ae-b6f44643841b"
      },
      "execution_count": 26,
      "outputs": [
        {
          "output_type": "stream",
          "name": "stdout",
          "text": [
            "\u001b[1m27/27\u001b[0m \u001b[32m━━━━━━━━━━━━━━━━━━━━\u001b[0m\u001b[37m\u001b[0m \u001b[1m0s\u001b[0m 9ms/step\n",
            "\u001b[1m13/13\u001b[0m \u001b[32m━━━━━━━━━━━━━━━━━━━━\u001b[0m\u001b[37m\u001b[0m \u001b[1m0s\u001b[0m 3ms/step \n",
            "Train RMSE: 1.74, Test RMSE: 3.78\n",
            "Train MAE: 1.12, Test MAE: 2.96\n"
          ]
        }
      ]
    },
    {
      "cell_type": "code",
      "source": [],
      "metadata": {
        "id": "h6M2Pw6k0RQm"
      },
      "execution_count": null,
      "outputs": []
    },
    {
      "cell_type": "markdown",
      "source": [
        "Image Classification Task:"
      ],
      "metadata": {
        "id": "SvvwEPOV20b5"
      }
    },
    {
      "cell_type": "code",
      "source": [
        "import numpy as np\n",
        "import matplotlib.pyplot as plt\n",
        "from tensorflow import keras\n",
        "from tensorflow.keras.models import Sequential\n",
        "from tensorflow.keras.layers import Conv2D, MaxPooling2D, Flatten, Dense\n",
        "from tensorflow.keras.callbacks import ReduceLROnPlateau\n",
        "from tensorflow.keras.datasets import mnist\n",
        "\n",
        "# Load the MNIST dataset\n",
        "(X_train, y_train), (X_test, y_test) = mnist.load_data()\n",
        "\n",
        "# Reshape the data to include a channel dimension and normalize\n",
        "X_train = X_train.reshape((X_train.shape[0], 28, 28, 1)).astype('float32') / 255\n",
        "X_test = X_test.reshape((X_test.shape[0], 28, 28, 1)).astype('float32') / 255\n",
        "\n",
        "# Define the CNN model\n",
        "model = Sequential([\n",
        "    Conv2D(32, (3, 3), activation='relu', input_shape=(28, 28, 1)),\n",
        "    MaxPooling2D(pool_size=(2, 2)),\n",
        "    Flatten(),\n",
        "    Dense(128, activation='relu'),\n",
        "    Dense(10, activation='softmax')\n",
        "])\n",
        "\n",
        "# Compile the model\n",
        "model.compile(optimizer='adam', loss='sparse_categorical_crossentropy', metrics=['accuracy'])\n",
        "\n",
        "# Define the ReduceLROnPlateau callback\n",
        "reduce_lr = ReduceLROnPlateau(monitor='val_loss', factor=0.2, patience=2, min_lr=0.0001, verbose=1)\n",
        "\n",
        "# Train the model with the callback\n",
        "history = model.fit(\n",
        "    X_train, y_train,\n",
        "    epochs=10,\n",
        "    batch_size=128,\n",
        "    validation_split=0.1,\n",
        "    callbacks=[reduce_lr],\n",
        "    verbose=2\n",
        ")\n",
        "\n",
        "# Evaluate the model\n",
        "test_loss, test_accuracy = model.evaluate(X_test, y_test, verbose=2)\n",
        "print(f\"Test accuracy: {test_accuracy*100:.2f}%\")\n",
        "\n",
        "# Plot the training history\n",
        "plt.figure(figsize=(12, 5))\n",
        "\n",
        "# Accuracy plot\n",
        "plt.subplot(1, 2, 1)\n",
        "plt.plot(history.history['accuracy'], label='Train Accuracy')\n",
        "plt.plot(history.history['val_accuracy'], label='Validation Accuracy')\n",
        "plt.title('Model Accuracy')\n",
        "plt.xlabel('Epoch')\n",
        "plt.ylabel('Accuracy')\n",
        "plt.legend(loc='lower right')\n",
        "\n",
        "# Loss plot\n",
        "plt.subplot(1, 2, 2)\n",
        "plt.plot(history.history['loss'], label='Train Loss')\n",
        "plt.plot(history.history['val_loss'], label='Validation Loss')\n",
        "plt.title('Model Loss')\n",
        "plt.xlabel('Epoch')\n",
        "plt.ylabel('Loss')\n",
        "plt.legend(loc='upper right')\n",
        "\n",
        "plt.tight_layout()\n",
        "plt.show()\n"
      ],
      "metadata": {
        "colab": {
          "base_uri": "https://localhost:8080/",
          "height": 944
        },
        "id": "rv3jMHfpqKh0",
        "outputId": "663a6c0b-e5a9-46fa-98dc-8591dec40c56"
      },
      "execution_count": 11,
      "outputs": [
        {
          "output_type": "stream",
          "name": "stdout",
          "text": [
            "Epoch 1/10\n",
            "422/422 - 28s - 66ms/step - accuracy: 0.9338 - loss: 0.2324 - val_accuracy: 0.9793 - val_loss: 0.0786 - learning_rate: 0.0010\n",
            "Epoch 2/10\n",
            "422/422 - 41s - 97ms/step - accuracy: 0.9792 - loss: 0.0715 - val_accuracy: 0.9850 - val_loss: 0.0578 - learning_rate: 0.0010\n",
            "Epoch 3/10\n",
            "422/422 - 41s - 97ms/step - accuracy: 0.9859 - loss: 0.0477 - val_accuracy: 0.9868 - val_loss: 0.0529 - learning_rate: 0.0010\n",
            "Epoch 4/10\n",
            "422/422 - 41s - 98ms/step - accuracy: 0.9889 - loss: 0.0363 - val_accuracy: 0.9857 - val_loss: 0.0564 - learning_rate: 0.0010\n",
            "Epoch 5/10\n",
            "422/422 - 40s - 95ms/step - accuracy: 0.9919 - loss: 0.0267 - val_accuracy: 0.9853 - val_loss: 0.0521 - learning_rate: 0.0010\n",
            "Epoch 6/10\n",
            "422/422 - 27s - 64ms/step - accuracy: 0.9933 - loss: 0.0212 - val_accuracy: 0.9872 - val_loss: 0.0479 - learning_rate: 0.0010\n",
            "Epoch 7/10\n",
            "422/422 - 40s - 95ms/step - accuracy: 0.9952 - loss: 0.0160 - val_accuracy: 0.9870 - val_loss: 0.0502 - learning_rate: 0.0010\n",
            "Epoch 8/10\n",
            "422/422 - 42s - 100ms/step - accuracy: 0.9966 - loss: 0.0117 - val_accuracy: 0.9887 - val_loss: 0.0446 - learning_rate: 0.0010\n",
            "Epoch 9/10\n",
            "422/422 - 39s - 92ms/step - accuracy: 0.9973 - loss: 0.0094 - val_accuracy: 0.9867 - val_loss: 0.0581 - learning_rate: 0.0010\n",
            "Epoch 10/10\n",
            "\n",
            "Epoch 10: ReduceLROnPlateau reducing learning rate to 0.00020000000949949026.\n",
            "422/422 - 27s - 63ms/step - accuracy: 0.9984 - loss: 0.0064 - val_accuracy: 0.9880 - val_loss: 0.0605 - learning_rate: 0.0010\n",
            "313/313 - 2s - 7ms/step - accuracy: 0.9863 - loss: 0.0483\n",
            "Test accuracy: 98.63%\n"
          ]
        },
        {
          "output_type": "display_data",
          "data": {
            "text/plain": [
              "<Figure size 1200x500 with 2 Axes>"
            ],
            "image/png": "[encoded data removed]"
          },
          "metadata": {}
        }
      ]
    },
    {
      "cell_type": "code",
      "source": [],
      "metadata": {
        "id": "J3-NjvHHsBby"
      },
      "execution_count": null,
      "outputs": []
    },
    {
      "cell_type": "code",
      "source": [],
      "metadata": {
        "id": "0vMnTb0EynqV"
      },
      "execution_count": null,
      "outputs": []
    },
    {
      "cell_type": "code",
      "source": [],
      "metadata": {
        "id": "5Jc-jC6Iyt5b"
      },
      "execution_count": null,
      "outputs": []
    },
    {
      "cell_type": "code",
      "source": [],
      "metadata": {
        "id": "t7zig3sv69F2"
      },
      "execution_count": null,
      "outputs": []
    }
  ]
}